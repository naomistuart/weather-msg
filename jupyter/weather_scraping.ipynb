{
 "cells": [
  {
   "cell_type": "code",
   "execution_count": 28,
   "metadata": {},
   "outputs": [],
   "source": [
    "from urllib.request import urlopen\n",
    "from requests import get\n",
    "from bs4 import BeautifulSoup\n",
    "import re"
   ]
  },
  {
   "cell_type": "code",
   "execution_count": 9,
   "metadata": {},
   "outputs": [],
   "source": [
    "url = \"http://www.bom.gov.au/nsw/forecasts/sydney.shtml\"\n",
    "html = get(url)\n",
    "bs = BeautifulSoup(html.text, \"html.parser\")"
   ]
  },
  {
   "cell_type": "code",
   "execution_count": 96,
   "metadata": {},
   "outputs": [
    {
     "name": "stdout",
     "output_type": "stream",
     "text": [
      "Forecast issued 4:20 pm EST, Tuesday 24 September 2019\n",
      "5%\n",
      "Clear\n",
      "Sun protection recommended from 8:50 am to 2:30 pm, UV Index predicted to reach 6 [High]\n"
     ]
    }
   ],
   "source": [
    "forecast_date = bs.find(\"p\", attrs={\"class\": \"date\"}).text.rstrip('.').replace(\" at\", \"\").replace(\" on\", \",\")\n",
    "rain_chance = bs.find(\"em\", attrs={\"class\": \"pop\"}).text.rstrip('\\t\\n')\n",
    "weather_summary = bs.find(\"dd\", attrs={\"class\": \"summary\"}).text.rstrip('.')\n",
    "uv_summary = bs.find(\"p\", attrs={\"class\": \"alert\"}).text.replace(\"  \", \" \")\n",
    "\n",
    "print(forecast_date)\n",
    "print(rain_chance)\n",
    "print(weather_summary)\n",
    "print(uv_summary)"
   ]
  },
  {
   "cell_type": "code",
   "execution_count": 84,
   "metadata": {},
   "outputs": [
    {
     "name": "stdout",
     "output_type": "stream",
     "text": [
      "11:00 am to 3:00 pm\n"
     ]
    }
   ],
   "source": [
    "uv_re = re.search('(from )(.+?)( to )(.+?)(,)', uv_summary)\n",
    "if uv_re:\n",
    "    uv_times = \"{} to {}\".format(uv_re.group(2), uv_re.group(4))\n",
    "else:\n",
    "    uv_times = \"Not needed\"\n",
    "print(uv_times)"
   ]
  },
  {
   "cell_type": "code",
   "execution_count": 100,
   "metadata": {},
   "outputs": [
    {
     "name": "stdout",
     "output_type": "stream",
     "text": [
      "**Sydney Weather Today**\n",
      "(Forecast issued 4:20 pm EST, Tuesday 24 September 2019)\n",
      "Weather: Clear\n",
      "Rain: 5%\n",
      "Sun Protection: 11:00 am to 3:00 pm\n"
     ]
    }
   ],
   "source": [
    "msg = \"**Sydney Weather Today**\\n({})\\nWeather: {}\\nRain: {}\\nSun Protection: {}\".format(forecast_date, weather_summary, rain_chance, uv_times)\n",
    "print(msg)"
   ]
  },
  {
   "cell_type": "code",
   "execution_count": null,
   "metadata": {},
   "outputs": [],
   "source": []
  }
 ],
 "metadata": {
  "kernelspec": {
   "display_name": "Python 3",
   "language": "python",
   "name": "python3"
  },
  "language_info": {
   "codemirror_mode": {
    "name": "ipython",
    "version": 3
   },
   "file_extension": ".py",
   "mimetype": "text/x-python",
   "name": "python",
   "nbconvert_exporter": "python",
   "pygments_lexer": "ipython3",
   "version": "3.6.8"
  }
 },
 "nbformat": 4,
 "nbformat_minor": 2
}
