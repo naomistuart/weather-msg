{
 "cells": [
  {
   "cell_type": "code",
   "execution_count": 1,
   "metadata": {},
   "outputs": [],
   "source": [
    "from urllib.request import urlopen\n",
    "from requests import get\n",
    "from bs4 import BeautifulSoup\n",
    "import re"
   ]
  },
  {
   "cell_type": "code",
   "execution_count": 2,
   "metadata": {},
   "outputs": [],
   "source": [
    "url = \"http://www.bom.gov.au/nsw/forecasts/sydney.shtml\"\n",
    "html = get(url)\n",
    "bs = BeautifulSoup(html.text, \"html.parser\")"
   ]
  },
  {
   "cell_type": "code",
   "execution_count": 13,
   "metadata": {},
   "outputs": [
    {
     "name": "stdout",
     "output_type": "stream",
     "text": [
      "Forecast issued 4:45 am EST, Wednesday 25 September 2019\n",
      "20\n",
      "Partly cloudy\n",
      "20%\n",
      "Sun protection recommended from 8:50 am to 2:40 pm, UV Index predicted to reach 6 [High]\n"
     ]
    }
   ],
   "source": [
    "forecast_date = bs.find(\"p\", attrs={\"class\": \"date\"}).text.rstrip('.').replace(\" at\", \"\").replace(\" on\", \",\")\n",
    "max_temp = bs.find(\"em\", attrs={\"class\": \"max\"}).text\n",
    "weather_summary = bs.find(\"dd\", attrs={\"class\": \"summary\"}).text.rstrip('.')\n",
    "rain_chance = bs.find(\"em\", attrs={\"class\": \"pop\"}).text.rstrip('\\t\\n')\n",
    "#uv_summary = bs.find(\"p\", attrs={\"class\": \"alert\"}).text.replace(\"  \", \" \")\n",
    "alerts = bs.find(\"div\", attrs={\"class\": \"day main\"}).find_all(\"p\", attrs={\"class\": \"alert\"})\n",
    "\n",
    "for alert in alerts:\n",
    "    if re.search('(Sun protection)(.+?)', alert.text):\n",
    "        uv_summary = alert.text.replace(\"  \", \" \")\n",
    "        break\n",
    "\n",
    "print(forecast_date)\n",
    "print(max_temp)\n",
    "print(weather_summary)\n",
    "print(rain_chance)\n",
    "print(uv_summary)"
   ]
  },
  {
   "cell_type": "code",
   "execution_count": 14,
   "metadata": {},
   "outputs": [
    {
     "name": "stdout",
     "output_type": "stream",
     "text": [
      "8:50 am to 2:40 pm\n"
     ]
    }
   ],
   "source": [
    "uv_re = re.search('(from )(.+?)( to )(.+?)(,)', uv_summary)\n",
    "if uv_re:\n",
    "    uv_times = \"{} to {}\".format(uv_re.group(2), uv_re.group(4))\n",
    "else:\n",
    "    uv_times = \"Not needed\"\n",
    "print(uv_times)"
   ]
  },
  {
   "cell_type": "code",
   "execution_count": 16,
   "metadata": {},
   "outputs": [
    {
     "name": "stdout",
     "output_type": "stream",
     "text": [
      "**Sydney Weather Today**\n",
      "(Forecast issued 4:45 am EST, Wednesday 25 September 2019)\n",
      "Max Temp: 20\n",
      "Weather: Partly cloudy\n",
      "Rain: 20%\n",
      "Sun Protection: 8:50 am to 2:40 pm\n"
     ]
    }
   ],
   "source": [
    "msg = \"**Sydney Weather Today**\\n({})\\nMax Temp: {}\\nWeather: {}\\nRain: {}\\nSun Protection: {}\".format(forecast_date, max_temp, weather_summary, rain_chance, uv_times)\n",
    "print(msg)"
   ]
  },
  {
   "cell_type": "code",
   "execution_count": null,
   "metadata": {},
   "outputs": [],
   "source": []
  }
 ],
 "metadata": {
  "kernelspec": {
   "display_name": "Python 3",
   "language": "python",
   "name": "python3"
  },
  "language_info": {
   "codemirror_mode": {
    "name": "ipython",
    "version": 3
   },
   "file_extension": ".py",
   "mimetype": "text/x-python",
   "name": "python",
   "nbconvert_exporter": "python",
   "pygments_lexer": "ipython3",
   "version": "3.7.3"
  }
 },
 "nbformat": 4,
 "nbformat_minor": 2
}
